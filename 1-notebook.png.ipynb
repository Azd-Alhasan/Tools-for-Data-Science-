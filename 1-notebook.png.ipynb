{
 "cells": [
  {
   "cell_type": "markdown",
   "id": "ef9227af-7b75-4a8e-9247-bcbd21f66481",
   "metadata": {},
   "source": [
    "# 1-notebook.png"
   ]
  },
  {
   "cell_type": "markdown",
   "id": "bd5e38a0-2dcd-45b8-aff2-9cd6c5df4e02",
   "metadata": {},
   "source": [
    "\"This is the introductory sentence.\" "
   ]
  },
  {
   "cell_type": "markdown",
   "id": "144d351a-f407-423e-8e81-8a1d79a696a7",
   "metadata": {},
   "source": [
    "# Data Science Languages \n",
    "- python\n",
    "- R \n",
    "- scala \n",
    "- java \n",
    "- JS"
   ]
  },
  {
   "cell_type": "markdown",
   "id": "447aeb99-fbbe-4fd0-9c26-7e84e71d683e",
   "metadata": {},
   "source": [
    "# Data Science Libraries\r\n",
    "\r\n",
    "- NumPy\r\n",
    "- Pandas\r\n",
    "- Matplotlib\r\n",
    "- Seaborn\r\n",
    "- Scikit-learn\r\n",
    "- TensorFlow\r\n",
    "- Keras\r\n",
    "- PyTorch\r\n",
    "- Statsmodels\r\n",
    "- SciPy\r\n"
   ]
  },
  {
   "cell_type": "markdown",
   "id": "dc851045-9d13-40fa-a6ce-f0b811143d60",
   "metadata": {},
   "source": [
    "# Table of Data Science tools \n",
    "- Jupyter\n",
    "- Rstudio\n",
    "- Apache Spark\n",
    "- Tensorflow\n",
    "- Tableau"
   ]
  },
  {
   "cell_type": "markdown",
   "id": "60e40d5b-0ee6-4801-8d26-952fbef7982d",
   "metadata": {},
   "source": [
    "# Arithmetic expression examples\n",
    "- **Addition**: `3 + 2 = 5`\n",
    "- **Subtraction**: `7 - 4 = 3`\n",
    "- **Multiplication**: `6 * 8 = 48`\n",
    "- **Division**: `16 / 4 = 4`\n",
    "- **Exponentiation**: `2 ** 3 = 8`\n",
    "- **Modulus**: `10 % 3 = 1`"
   ]
  },
  {
   "cell_type": "markdown",
   "id": "65e0c359-c0fb-41a3-8db5-32ceec5f90f7",
   "metadata": {},
   "source": [
    "# Multiply and Add Numbers\n",
    "- **Addition**: `3 + 2 = 5`\n",
    "- **Multiplication**: `6 * 8 = 48`"
   ]
  },
  {
   "cell_type": "code",
   "execution_count": 4,
   "id": "53e9ccb8-a6d6-4e00-92be-bdf338189463",
   "metadata": {},
   "outputs": [
    {
     "data": {
      "text/plain": [
       "2.5"
      ]
     },
     "execution_count": 4,
     "metadata": {},
     "output_type": "execute_result"
    }
   ],
   "source": [
    "# Convert minutes to hours\n",
    "minutes = 150  # Example value\n",
    "hours = minutes / 60\n",
    "hours"
   ]
  },
  {
   "cell_type": "markdown",
   "id": "2b79da85-c6ab-4724-a0b9-fb4d8c4b3610",
   "metadata": {},
   "source": [
    "# Objectives\r\n",
    "\r\n",
    "- Understand the basics of Python programming.\r\n",
    "- Learn how to manipulate data using Pandas.\r\n",
    "- Explore data visualization techniques with Matplotlib and Seaborn.\r\n",
    "- Apply machine learning algorithms using Scikit-learn.\r\n",
    "- Implement deep learning models with TensorFlow and Keras.\r\n",
    "- Develop a project using data science tools and libraries.\r\n"
   ]
  },
  {
   "cell_type": "markdown",
   "id": "d62fdf43-db9e-4ee5-9e65-7b8a0eccd683",
   "metadata": {},
   "source": [
    "**Author:** Azd Alhasan"
   ]
  },
  {
   "cell_type": "code",
   "execution_count": null,
   "id": "f1a591b7-96af-4337-96d2-29d153efca9b",
   "metadata": {},
   "outputs": [],
   "source": []
  }
 ],
 "metadata": {
  "kernelspec": {
   "display_name": "Python 3 (ipykernel)",
   "language": "python",
   "name": "python3"
  },
  "language_info": {
   "codemirror_mode": {
    "name": "ipython",
    "version": 3
   },
   "file_extension": ".py",
   "mimetype": "text/x-python",
   "name": "python",
   "nbconvert_exporter": "python",
   "pygments_lexer": "ipython3",
   "version": "3.11.5"
  }
 },
 "nbformat": 4,
 "nbformat_minor": 5
}
